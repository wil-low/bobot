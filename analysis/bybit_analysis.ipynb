{
 "cells": [
  {
   "cell_type": "code",
   "execution_count": null,
   "id": "0",
   "metadata": {},
   "outputs": [],
   "source": [
    "\n",
    "import numpy as np\n",
    "import pandas as pd\n",
    "import matplotlib.pyplot as plt\n",
    "import seaborn as sns\n",
    "\n",
    "# Optional for nicer plots\n",
    "sns.set(style=\"whitegrid\")\n",
    "%matplotlib inline\n",
    "\n",
    "\n",
    "# Load data\n",
    "from io import StringIO\n",
    "csv_file = \"csv/bybit_export.csv\"\n",
    "df = pd.read_csv(csv_file, parse_dates=['updatedTime', 'createdTime'])\n",
    "\n",
    "# Ensure closedPnl is numeric\n",
    "df['closedPnl'] = pd.to_numeric(df['closedPnl'], errors='coerce')\n",
    "\n",
    "# Sort by execution time\n",
    "df.sort_values('updatedTime', inplace=True)\n",
    "\n",
    "total_trades = len(df)\n",
    "wins = df[df['closedPnl'] > 0]\n",
    "losses = df[df['closedPnl'] < 0]\n",
    "win_rate = len(wins) / total_trades * 100\n",
    "avg_win = wins['closedPnl'].mean()\n",
    "avg_loss = losses['closedPnl'].mean()\n",
    "profit_factor = wins['closedPnl'].sum() / -losses['closedPnl'].sum()\n",
    "expectancy = (win_rate/100) * avg_win + (1 - win_rate/100) * avg_loss\n",
    "equity_curve = df['closedPnl'].cumsum()\n",
    "max_drawdown = (equity_curve.cummax() - equity_curve).max()\n",
    "final_equity = 1000 + df['closedPnl'].sum()\n",
    "\n",
    "# Display\n",
    "print(f\"Total trades: {total_trades}\")\n",
    "print(f\"Win rate: {win_rate:.2f}%\")\n",
    "print(f\"Average win: {avg_win:.2f}\")\n",
    "print(f\"Average loss: {avg_loss:.2f}\")\n",
    "print(f\"Profit factor: {profit_factor:.2f}\")\n",
    "print(f\"Expectancy: {expectancy:.2f} per trade\")\n",
    "print(f\"Max drawdown: {max_drawdown:.2f}\")\n",
    "print(f\"Final equity (from 1000): {final_equity:.2f}\")\n"
   ]
  },
  {
   "cell_type": "code",
   "execution_count": null,
   "id": "1",
   "metadata": {},
   "outputs": [],
   "source": [
    "df['cum_pnl'] = df['closedPnl'].cumsum()\n",
    "\n",
    "# Assume base capital (you can change this)\n",
    "initial_balance = 1000\n",
    "df['balance'] = initial_balance + df['cum_pnl']\n",
    "\n",
    "plt.figure(figsize=(20, 6)) \n",
    "plt.plot(df['updatedTime'], df['balance'], label='Cumulative PnL', color='blue')\n",
    "plt.axhline(initial_balance, color='red', linestyle='--')\n",
    "plt.title('Equity Curve (Cumulative PnL)')\n",
    "plt.xlabel('Time')\n",
    "plt.ylabel('PnL')\n",
    "plt.legend()\n",
    "plt.tight_layout()\n",
    "plt.show()"
   ]
  },
  {
   "cell_type": "code",
   "execution_count": null,
   "id": "2",
   "metadata": {},
   "outputs": [],
   "source": [
    "# --- Time-Weighted Return (TWR) Calculation ---\n",
    "df['prev_balance'] = df['balance'].shift(1).fillna(initial_balance)\n",
    "df['twr_return'] = 1 + (df['closedPnl'] / df['prev_balance'])\n",
    "twr = df['twr_return'].prod() - 1\n",
    "print(f\"Time-Weighted Return (TWR): {twr:.2%}\")"
   ]
  },
  {
   "cell_type": "code",
   "execution_count": null,
   "id": "3",
   "metadata": {},
   "outputs": [],
   "source": [
    "# --- Drawdown ---\n",
    "df['rolling_max'] = df['balance'].cummax()\n",
    "df['drawdown'] = df['balance'] - df['rolling_max']\n",
    "df['drawdown_pct'] = df['drawdown'] / df['rolling_max']\n",
    "\n",
    "# Plot drawdown\n",
    "plt.figure(figsize=(20, 6)) \n",
    "plt.fill_between(df['updatedTime'], df['drawdown_pct'], color='red', alpha=0.3)\n",
    "plt.title(\"Drawdown (%) Over Time\")\n",
    "plt.ylabel(\"Drawdown %\")\n",
    "plt.xlabel(\"Time\")\n",
    "plt.tight_layout()\n",
    "plt.show()\n",
    "\n",
    "max_dd = df['drawdown_pct'].min()\n",
    "print(f\"Max Drawdown: {max_dd:.2%}\")"
   ]
  },
  {
   "cell_type": "code",
   "execution_count": null,
   "id": "4",
   "metadata": {},
   "outputs": [],
   "source": [
    "plt.figure(figsize=(20, 6)) \n",
    "sns.histplot(df['closedPnl'], bins=30, kde=True, color='purple')\n",
    "plt.title('Distribution of Closed PnL per Trade')\n",
    "plt.xlabel('Closed PnL')\n",
    "plt.ylabel('Frequency')\n",
    "plt.tight_layout()\n",
    "plt.show()\n"
   ]
  },
  {
   "cell_type": "code",
   "execution_count": null,
   "id": "5",
   "metadata": {},
   "outputs": [],
   "source": [
    "# Leverage usage over time\n",
    "plt.figure(figsize=(20, 6)) \n",
    "plt.plot(df['updatedTime'], df['leverage'], label='Leverage', color='purple')\n",
    "plt.title(\"Leverage Over Time\")\n",
    "plt.ylabel(\"Leverage\")\n",
    "plt.xlabel(\"Time\")\n",
    "plt.tight_layout()\n",
    "plt.show()"
   ]
  },
  {
   "cell_type": "code",
   "execution_count": null,
   "id": "6",
   "metadata": {},
   "outputs": [],
   "source": [
    "win_count = (df['closedPnl'] > 0).sum()\n",
    "loss_count = (df['closedPnl'] <= 0).sum()\n",
    "\n",
    "plt.figure(figsize=(6, 6))\n",
    "plt.pie([win_count, loss_count], labels=['Winning Trades', 'Losing Trades'], autopct='%1.1f%%', colors=['green', 'red'])\n",
    "plt.title('Win vs Loss Trades')\n",
    "plt.show()\n"
   ]
  },
  {
   "cell_type": "code",
   "execution_count": null,
   "id": "7",
   "metadata": {},
   "outputs": [],
   "source": [
    "pnl_by_symbol = df.groupby('symbol')['closedPnl'].count().sort_values()\n",
    "\n",
    "plt.figure(figsize=(20, 6)) \n",
    "pnl_by_symbol.plot(kind='bar', color='orange')\n",
    "plt.title('Trades by Symbol')\n",
    "plt.ylabel('Closed PnL Count')\n",
    "plt.xlabel('Symbol')\n",
    "plt.xticks(rotation=60)\n",
    "\n",
    "# Set y-axis ticks with step of 5\n",
    "max_count = pnl_by_symbol.max()\n",
    "yticks = np.arange(0, max_count + 5, 5)\n",
    "plt.yticks(yticks)\n",
    "\n",
    "plt.tight_layout()\n",
    "plt.show()\n"
   ]
  },
  {
   "cell_type": "code",
   "execution_count": null,
   "id": "8",
   "metadata": {},
   "outputs": [],
   "source": [
    "pnl_by_symbol = df.groupby('symbol')['closedPnl'].sum().sort_values()\n",
    "\n",
    "plt.figure(figsize=(20, 6)) \n",
    "pnl_by_symbol.plot(kind='bar', color='orange')\n",
    "plt.title('Total PnL by Symbol')\n",
    "plt.ylabel('Total Closed PnL')\n",
    "plt.xlabel('Symbol')\n",
    "plt.xticks(rotation=60)\n",
    "plt.tight_layout()\n",
    "plt.show()\n"
   ]
  },
  {
   "cell_type": "code",
   "execution_count": null,
   "id": "9",
   "metadata": {},
   "outputs": [],
   "source": [
    "pnl_by_symbol = df.groupby('symbol')['closedPnl'].mean().sort_values()\n",
    "\n",
    "plt.figure(figsize=(20, 6)) \n",
    "pnl_by_symbol.plot(kind='bar', color='orange')\n",
    "plt.title('Average PnL by Symbol')\n",
    "plt.ylabel('Average Closed PnL')\n",
    "plt.xlabel('Symbol')\n",
    "plt.xticks(rotation=60)\n",
    "plt.tight_layout()\n",
    "plt.show()\n"
   ]
  }
 ],
 "metadata": {
  "kernelspec": {
   "display_name": "base",
   "language": "python",
   "name": "python3"
  },
  "language_info": {
   "codemirror_mode": {
    "name": "ipython",
    "version": 3
   },
   "file_extension": ".py",
   "mimetype": "text/x-python",
   "name": "python",
   "nbconvert_exporter": "python",
   "pygments_lexer": "ipython3",
   "version": "3.12.7"
  }
 },
 "nbformat": 4,
 "nbformat_minor": 5
}
