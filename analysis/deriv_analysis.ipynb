{
 "cells": [
  {
   "cell_type": "markdown",
   "id": "0",
   "metadata": {},
   "source": [
    "# 📊 Intrade.bar Trading Data Analysis\n",
    "This notebook analyzes profitability across symbols, time of day, day of week, and trade direction based on Intrade.bar export data."
   ]
  },
  {
   "cell_type": "code",
   "execution_count": null,
   "id": "1",
   "metadata": {},
   "outputs": [],
   "source": [
    "import pandas as pd\n",
    "import seaborn as sns\n",
    "import matplotlib.pyplot as plt\n",
    "import plotly.express as px\n",
    "import matplotlib.ticker as mtick\n",
    "\n",
    "# Matplotlib display inline\n",
    "%matplotlib inline"
   ]
  },
  {
   "cell_type": "code",
   "execution_count": null,
   "id": "2",
   "metadata": {},
   "outputs": [],
   "source": [
    "df = pd.read_csv(\"csv/deriv_export.csv\", sep=',')\n",
    "\n",
    "# Clean numeric columns\n",
    "#for col in [\"Amount\", \"Result\"]:\n",
    "#    df[col] = df[col].str.replace(\" USD\", \"\").astype(float)\n"
   ]
  },
  {
   "cell_type": "code",
   "execution_count": null,
   "id": "3",
   "metadata": {},
   "outputs": [],
   "source": [
    "from datetime import datetime\n",
    "\n",
    "def parse_custom_datetime(x):\n",
    "    return datetime.strptime(x.strip(), \"%Y-%m-%d %H:%M:%S\")\n",
    "\n",
    "df[\"entry_time\"] = df[\"purchase_time\"].apply(parse_custom_datetime)\n",
    "df[\"exit_time\"] = df[\"sell_time\"].apply(parse_custom_datetime)\n",
    "\n",
    "def convert_side(x):\n",
    "    return \"Up\" if x == \"CALL\" else \"Down\"\n",
    "\n",
    "df[\"side\"] = df[\"contract_type\"].apply(convert_side)\n"
   ]
  },
  {
   "cell_type": "code",
   "execution_count": null,
   "id": "4",
   "metadata": {},
   "outputs": [],
   "source": [
    "df[\"symbol\"] = df[\"underlying_symbol\"]\n",
    "df[\"pnl\"] = df[\"sell_price\"] - df[\"buy_price\"]\n",
    "df[\"hour\"] = df[\"entry_time\"].dt.hour\n",
    "df[\"day_of_week\"] = df[\"entry_time\"].dt.day_name()\n"
   ]
  },
  {
   "cell_type": "code",
   "execution_count": null,
   "id": "5",
   "metadata": {},
   "outputs": [],
   "source": [
    "plt.figure(figsize=(10, 5))\n",
    "sns.barplot(x=\"symbol\", y=\"pnl\", data=df, estimator=sum)\n",
    "plt.title(\"Total Profit/Loss by Symbol\")\n",
    "plt.ylabel(\"Total PnL\")\n",
    "plt.xticks(rotation=45)\n",
    "plt.tight_layout()\n",
    "plt.show()"
   ]
  },
  {
   "cell_type": "code",
   "execution_count": null,
   "id": "6",
   "metadata": {},
   "outputs": [],
   "source": [
    "plt.figure(figsize=(10, 5))\n",
    "sns.barplot(x=\"hour\", y=\"pnl\", data=df, estimator=sum, palette=\"viridis\", hue=\"hour\", legend=False)\n",
    "plt.title(\"Profit/Loss by Hour of Day\")\n",
    "plt.xticks(range(0, 24))\n",
    "plt.tight_layout()\n",
    "plt.show()"
   ]
  },
  {
   "cell_type": "code",
   "execution_count": null,
   "id": "7",
   "metadata": {},
   "outputs": [],
   "source": [
    "order = [\"Monday\", \"Tuesday\", \"Wednesday\", \"Thursday\", \"Friday\", \"Saturday\", \"Sunday\"]\n",
    "plt.figure(figsize=(10, 5))\n",
    "sns.barplot(x=\"day_of_week\", y=\"pnl\", data=df, estimator=sum, order=order)\n",
    "plt.title(\"Profit/Loss by Day of Week\")\n",
    "plt.tight_layout()\n",
    "plt.show()"
   ]
  },
  {
   "cell_type": "code",
   "execution_count": null,
   "id": "8",
   "metadata": {},
   "outputs": [],
   "source": [
    "plt.figure(figsize=(6, 5))\n",
    "sns.barplot(x=\"side\", y=\"pnl\", data=df, estimator=sum, palette=\"Set2\", hue=\"side\", legend=False)\n",
    "plt.title(\"PnL by Side (Up/Down)\")\n",
    "plt.tight_layout()\n",
    "plt.show()"
   ]
  },
  {
   "cell_type": "code",
   "execution_count": null,
   "id": "9",
   "metadata": {},
   "outputs": [],
   "source": [
    "pivot = df.pivot_table(index=\"day_of_week\", columns=\"hour\", values=\"pnl\", aggfunc=\"sum\")\n",
    "pivot = pivot.reindex(order)\n",
    "plt.figure(figsize=(12, 6))\n",
    "sns.heatmap(pivot, cmap=\"coolwarm\", center=0, annot=True, fmt=\".0f\")\n",
    "plt.title(\"PnL Heatmap by Day and Hour\")\n",
    "plt.xlabel(\"Hour of Day\")\n",
    "plt.ylabel(\"Day of Week\")\n",
    "plt.tight_layout()\n",
    "plt.show()"
   ]
  },
  {
   "cell_type": "code",
   "execution_count": null,
   "id": "10",
   "metadata": {},
   "outputs": [],
   "source": [
    "fig = px.scatter_3d(\n",
    "    df,\n",
    "    x=\"symbol\",\n",
    "    y=\"hour\",\n",
    "    z=\"pnl\",\n",
    "    color=\"symbol\",\n",
    "    title=\"3D: Symbol vs Hour vs PnL\"\n",
    ")\n",
    "fig.update_layout(width=1400, height=1000)\n",
    "fig.show()"
   ]
  }
 ],
 "metadata": {
  "kernelspec": {
   "display_name": "base",
   "language": "python",
   "name": "python3"
  },
  "language_info": {
   "codemirror_mode": {
    "name": "ipython",
    "version": 3
   },
   "file_extension": ".py",
   "mimetype": "text/x-python",
   "name": "python",
   "nbconvert_exporter": "python",
   "pygments_lexer": "ipython3",
   "version": "3.12.7"
  }
 },
 "nbformat": 4,
 "nbformat_minor": 5
}
